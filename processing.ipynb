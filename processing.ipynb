{
 "cells": [
  {
   "cell_type": "code",
   "execution_count": 1,
   "metadata": {},
   "outputs": [],
   "source": [
    "import numpy as np\n",
    "import pandas as pd\n",
    "import gc\n",
    "import json\n",
    "import torch\n",
    "import warnings\n",
    "warnings.filterwarnings(\"ignore\")"
   ]
  },
  {
   "cell_type": "code",
   "execution_count": 2,
   "metadata": {},
   "outputs": [],
   "source": [
    "with open('InfoDataset/pollution.json', 'r') as json_file:\n",
    "    data_info = json.load(json_file)\n",
    "num_name = data_info['num_name']\n",
    "cat_name = data_info['cat_name']\n",
    "data = pd.read_csv(\"CleaningDataset/pollution.csv\", index_col=0, parse_dates=True)"
   ]
  },
  {
   "cell_type": "code",
   "execution_count": 3,
   "metadata": {},
   "outputs": [],
   "source": [
    "def process_num_var(input_data, context_window=96, num_sample=2000, num_feature=7):\n",
    "    N, M = input_data.shape\n",
    "    B = N - context_window + 1\n",
    "    B = num_sample\n",
    "    \n",
    "    output_data = np.zeros((B, context_window, num_feature), dtype=np.float32)\n",
    "    mask = np.zeros((B, context_window, num_feature), dtype=bool)\n",
    "    \n",
    "    for i in range(B):\n",
    "        output_data[i, :, :M] = input_data[i:i+context_window, :].astype(np.float32)\n",
    "        mask[i, :, :M] = True\n",
    "    \n",
    "    return output_data, mask\n",
    "\n",
    "def process_cat_var(input_data, context_window=96, num_sample=2000):\n",
    "    N, M, D = input_data.shape\n",
    "    B = N - context_window + 1\n",
    "    B = num_sample\n",
    "\n",
    "    output_data = np.zeros((B, context_window, M, D), dtype=np.float32)\n",
    "    \n",
    "    for i in range(B):\n",
    "        output_data[i] = input_data[i:i+context_window, :, :].astype(np.float32)\n",
    "    \n",
    "    return output_data"
   ]
  },
  {
   "cell_type": "code",
   "execution_count": 4,
   "metadata": {},
   "outputs": [
    {
     "name": "stdout",
     "output_type": "stream",
     "text": [
      "(43824, 7)\n",
      "Output data shape: (2000, 96, 7)\n",
      "Mask shape: (2000, 96, 7)\n"
     ]
    }
   ],
   "source": [
    "input_data = data[num_name].values\n",
    "print(input_data.shape)\n",
    "output_data, mask = process_num_var(input_data, context_window=96, num_sample=2000, num_feature=7)\n",
    "print(\"Output data shape:\", output_data.shape)\n",
    "print(\"Mask shape:\", mask.shape)"
   ]
  },
  {
   "cell_type": "code",
   "execution_count": 5,
   "metadata": {},
   "outputs": [
    {
     "name": "stdout",
     "output_type": "stream",
     "text": [
      "(2000, 96, 7)\n",
      "(2000, 96, 7)\n"
     ]
    }
   ],
   "source": [
    "np.save('TimeSeriesDataset/num/pollution.npy', output_data)\n",
    "output_data = np.load('TimeSeriesDataset/num/pollution.npy')\n",
    "print(output_data.shape)\n",
    "\n",
    "np.save('TimeSeriesDataset/mask/pollution.npy', mask)\n",
    "mask = np.load('TimeSeriesDataset/mask/pollution.npy')\n",
    "print(mask.shape)"
   ]
  },
  {
   "cell_type": "code",
   "execution_count": 6,
   "metadata": {},
   "outputs": [
    {
     "name": "stdout",
     "output_type": "stream",
     "text": [
      "(43824, 16, 768)\n",
      "(2000, 96, 16, 768)\n"
     ]
    }
   ],
   "source": [
    "input_data = np.load('TextEmbedding/pollution.npy')\n",
    "print(input_data.shape)\n",
    "output_data = process_cat_var(input_data, context_window=96, num_sample=2000)\n",
    "print(output_data.shape)"
   ]
  },
  {
   "cell_type": "code",
   "execution_count": 7,
   "metadata": {},
   "outputs": [
    {
     "name": "stdout",
     "output_type": "stream",
     "text": [
      "(2000, 96, 16, 768)\n"
     ]
    }
   ],
   "source": [
    "np.save('TimeSeriesDataset/cat/pollution.npy', output_data)\n",
    "output_data = np.load('TimeSeriesDataset/cat/pollution.npy')\n",
    "print(output_data.shape)"
   ]
  },
  {
   "cell_type": "code",
   "execution_count": null,
   "metadata": {},
   "outputs": [],
   "source": []
  }
 ],
 "metadata": {
  "kernelspec": {
   "display_name": "base",
   "language": "python",
   "name": "python3"
  },
  "language_info": {
   "codemirror_mode": {
    "name": "ipython",
    "version": 3
   },
   "file_extension": ".py",
   "mimetype": "text/x-python",
   "name": "python",
   "nbconvert_exporter": "python",
   "pygments_lexer": "ipython3",
   "version": "3.9.13"
  }
 },
 "nbformat": 4,
 "nbformat_minor": 2
}
