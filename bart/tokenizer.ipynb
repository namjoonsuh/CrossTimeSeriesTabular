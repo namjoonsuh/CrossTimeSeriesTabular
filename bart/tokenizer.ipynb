{
 "cells": [
  {
   "cell_type": "code",
   "execution_count": 1,
   "metadata": {},
   "outputs": [],
   "source": [
    "import numpy as np\n",
    "import pandas as pd\n",
    "from sklearn.preprocessing import StandardScaler\n",
    "import torch\n",
    "import torch.nn as nn\n",
    "from transformers import BartTokenizer, BartForConditionalGeneration\n",
    "from transformers.modeling_outputs import BaseModelOutput\n",
    "\n",
    "import warnings\n",
    "warnings.filterwarnings('ignore')"
   ]
  },
  {
   "cell_type": "code",
   "execution_count": 2,
   "metadata": {},
   "outputs": [],
   "source": [
    "class BartEncoder(nn.Module):\n",
    "    def __init__(self):\n",
    "        super().__init__()\n",
    "        self.tokenizer = BartTokenizer.from_pretrained('facebook/bart-large')\n",
    "        self.model = BartForConditionalGeneration.from_pretrained('facebook/bart-large')\n",
    "    def forward(self, text):\n",
    "        inputs = self.tokenizer(text, return_tensors=\"pt\", padding=True, truncation=True, max_length=1000)\n",
    "        input_ids = inputs.input_ids\n",
    "        attention_mask = inputs.attention_mask\n",
    "        encoder_outputs = self.model.get_encoder()(input_ids=input_ids, attention_mask=attention_mask)\n",
    "        last_hidden_state = encoder_outputs.last_hidden_state\n",
    "        return last_hidden_state, attention_mask\n",
    "\n",
    "class BartDecoder(nn.Module):\n",
    "    def __init__(self):\n",
    "        super().__init__()\n",
    "        self.tokenizer = BartTokenizer.from_pretrained('facebook/bart-large')\n",
    "        self.model = BartForConditionalGeneration.from_pretrained('facebook/bart-large')\n",
    "    def forward(self, last_hidden_state, attention_mask):\n",
    "        decoder_input_ids = torch.full((last_hidden_state.size(0), 1), self.model.config.decoder_start_token_id, dtype=torch.long) \n",
    "        last_hidden_state = BaseModelOutput(last_hidden_state=last_hidden_state, hidden_states=None, attentions=None)\n",
    "        outputs = self.model.generate(\n",
    "            attention_mask=attention_mask,\n",
    "            encoder_outputs=last_hidden_state,\n",
    "            decoder_input_ids=decoder_input_ids,\n",
    "            max_length=100,\n",
    "            num_beams=5,\n",
    "            # do_sample=True\n",
    "            # temperature=1.0\n",
    "        )\n",
    "        reconstructed_text = [self.tokenizer.decode(output, skip_special_tokens=True) for output in outputs]\n",
    "        return reconstructed_text\n",
    "\n",
    "TextEncoder = BartEncoder()\n",
    "TextDecoder = BartDecoder()"
   ]
  },
  {
   "cell_type": "code",
   "execution_count": 3,
   "metadata": {},
   "outputs": [
    {
     "data": {
      "text/html": [
       "<div>\n",
       "<style scoped>\n",
       "    .dataframe tbody tr th:only-of-type {\n",
       "        vertical-align: middle;\n",
       "    }\n",
       "\n",
       "    .dataframe tbody tr th {\n",
       "        vertical-align: top;\n",
       "    }\n",
       "\n",
       "    .dataframe thead th {\n",
       "        text-align: right;\n",
       "    }\n",
       "</style>\n",
       "<table border=\"1\" class=\"dataframe\">\n",
       "  <thead>\n",
       "    <tr style=\"text-align: right;\">\n",
       "      <th></th>\n",
       "      <th>product_description</th>\n",
       "      <th>product_type</th>\n",
       "      <th>sentiment</th>\n",
       "    </tr>\n",
       "  </thead>\n",
       "  <tbody>\n",
       "    <tr>\n",
       "      <th>0</th>\n",
       "      <td>#techcrunch #google This Post Has Nothing to d...</td>\n",
       "      <td>9</td>\n",
       "      <td>2</td>\n",
       "    </tr>\n",
       "    <tr>\n",
       "      <th>1</th>\n",
       "      <td>Data is the new oil. (Companies like Google an...</td>\n",
       "      <td>3</td>\n",
       "      <td>1</td>\n",
       "    </tr>\n",
       "    <tr>\n",
       "      <th>2</th>\n",
       "      <td>my sister is throwing the Google sxsw party to...</td>\n",
       "      <td>3</td>\n",
       "      <td>3</td>\n",
       "    </tr>\n",
       "    <tr>\n",
       "      <th>3</th>\n",
       "      <td>Clear +succinct visions make for great UX (thi...</td>\n",
       "      <td>9</td>\n",
       "      <td>2</td>\n",
       "    </tr>\n",
       "    <tr>\n",
       "      <th>4</th>\n",
       "      <td>40% of Google Maps use is mobile marissamayer ...</td>\n",
       "      <td>9</td>\n",
       "      <td>3</td>\n",
       "    </tr>\n",
       "  </tbody>\n",
       "</table>\n",
       "</div>"
      ],
      "text/plain": [
       "                                 product_description  product_type  sentiment\n",
       "0  #techcrunch #google This Post Has Nothing to d...             9          2\n",
       "1  Data is the new oil. (Companies like Google an...             3          1\n",
       "2  my sister is throwing the Google sxsw party to...             3          3\n",
       "3  Clear +succinct visions make for great UX (thi...             9          2\n",
       "4  40% of Google Maps use is mobile marissamayer ...             9          3"
      ]
     },
     "execution_count": 3,
     "metadata": {},
     "output_type": "execute_result"
    }
   ],
   "source": [
    "data = pd.read_csv(\"data.csv\", encoding=\"utf-8\")\n",
    "data.head()"
   ]
  },
  {
   "cell_type": "code",
   "execution_count": 4,
   "metadata": {},
   "outputs": [
    {
     "name": "stdout",
     "output_type": "stream",
     "text": [
      "Index(['product_description', 'product_type', 'sentiment'], dtype='object')\n"
     ]
    }
   ],
   "source": [
    "col_name = data.columns\n",
    "print(col_name)"
   ]
  },
  {
   "cell_type": "code",
   "execution_count": 6,
   "metadata": {},
   "outputs": [
    {
     "data": {
      "text/plain": [
       "['product_description, product_type, sentiment',\n",
       " 'product_description, product_type, sentiment',\n",
       " 'product_description, product_type, sentiment',\n",
       " 'product_description, product_type, sentiment',\n",
       " 'product_description, product_type, sentiment']"
      ]
     },
     "execution_count": 6,
     "metadata": {},
     "output_type": "execute_result"
    }
   ],
   "source": [
    "[', '.join(col_name)] * 5"
   ]
  },
  {
   "cell_type": "code",
   "execution_count": 7,
   "metadata": {},
   "outputs": [
    {
     "name": "stdout",
     "output_type": "stream",
     "text": [
      "torch.Size([5, 11, 1024])\n"
     ]
    }
   ],
   "source": [
    "col_name_emd, col_name_mask = TextEncoder([', '.join(col_name)] * 5)\n",
    "print(col_name_emd.size())"
   ]
  },
  {
   "cell_type": "code",
   "execution_count": 8,
   "metadata": {},
   "outputs": [
    {
     "data": {
      "text/plain": [
       "['product_description, product_type, sentiment',\n",
       " 'product_description, product_type, sentiment',\n",
       " 'product_description, product_type, sentiment',\n",
       " 'product_description, product_type, sentiment',\n",
       " 'product_description, product_type, sentiment']"
      ]
     },
     "execution_count": 8,
     "metadata": {},
     "output_type": "execute_result"
    }
   ],
   "source": [
    "reconstructed_col_name = TextDecoder(col_name_emd, col_name_mask)\n",
    "reconstructed_col_name"
   ]
  },
  {
   "cell_type": "code",
   "execution_count": null,
   "metadata": {},
   "outputs": [],
   "source": []
  }
 ],
 "metadata": {
  "kernelspec": {
   "display_name": "base",
   "language": "python",
   "name": "python3"
  },
  "language_info": {
   "codemirror_mode": {
    "name": "ipython",
    "version": 3
   },
   "file_extension": ".py",
   "mimetype": "text/x-python",
   "name": "python",
   "nbconvert_exporter": "python",
   "pygments_lexer": "ipython3",
   "version": "3.10.14"
  }
 },
 "nbformat": 4,
 "nbformat_minor": 2
}
